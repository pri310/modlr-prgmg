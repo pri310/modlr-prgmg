{
 "cells": [
  {
   "cell_type": "code",
   "execution_count": 1,
   "metadata": {},
   "outputs": [
    {
     "name": "stdout",
     "output_type": "stream",
     "text": [
      "('mental ability Correlation: ', -0.5973301212527224)\n"
     ]
    }
   ],
   "source": [
    "\n",
    "import math\n",
    "a=[15,26,10,9,15,20,18,11,8,20]\n",
    "b=[101,77,89,97,108,93,99,106,110,100]\n",
    "def mean(x):\n",
    "    sum = 0.0\n",
    "    for i in x:\n",
    "         sum += i\n",
    "    return sum / len(x) \n",
    "    \n",
    "def sampleStandardDeviation(x):\n",
    "    sumv = 0.0\n",
    "    for i in x:\n",
    "         sumv += (i - mean(x))**2\n",
    "    return math.sqrt(sumv/(len(x)-1))\n",
    "\n",
    "def pearson_def(x, y):\n",
    "    scorex = []\n",
    "    scorey = []\n",
    "    for i in x: \n",
    "        scorex.append((i - mean(x))/sampleStandardDeviation(x)) \n",
    "    for j in y:\n",
    "        scorey.append((j - mean(y))/sampleStandardDeviation(y))   \n",
    "    return (sum([i*j for i,j in zip(scorex,scorey)]))/(len(x)-1)\n",
    "\n",
    "\n",
    "print(\"mental ability Correlation: \",pearson_def(a,b))"
   ]
  },
  {
   "cell_type": "code",
   "execution_count": 2,
   "metadata": {},
   "outputs": [
    {
     "name": "stdout",
     "output_type": "stream",
     "text": [
      "('stumps and bettle Correlation: ', 0.9158498450298386)\n"
     ]
    }
   ],
   "source": [
    "\n",
    "import math\n",
    "a=[2,2,1,3,4,1,5,3,1,2]\n",
    "b=[16,36,18,30,46,17,62,46,14,20]\n",
    "def mean(x):\n",
    "    sum = 0.0\n",
    "    for i in x:\n",
    "         sum += i\n",
    "    return sum / len(x) \n",
    "    \n",
    "def sampleStandardDeviation(x):\n",
    "    sumv = 0.0\n",
    "    for i in x:\n",
    "         sumv += (i - mean(x))**2\n",
    "    return math.sqrt(sumv/(len(x)-1))\n",
    "\n",
    "def correlation_def(x, y):\n",
    "\n",
    "    scorex = []\n",
    "    scorey = []\n",
    "\n",
    "    for i in x: \n",
    "        scorex.append((i - mean(x))/sampleStandardDeviation(x)) \n",
    "\n",
    "    for j in y:\n",
    "        scorey.append((j - mean(y))/sampleStandardDeviation(y))   \n",
    "    return (sum([i*j for i,j in zip(scorex,scorey)]))/(len(x)-1)\n",
    "\n",
    "print(\"stumps and bettle Correlation: \",correlation_def(a,b))"
   ]
  },
  {
   "cell_type": "code",
   "execution_count": 3,
   "metadata": {},
   "outputs": [
    {
     "name": "stdout",
     "output_type": "stream",
     "text": [
      "('hour and gallon Correlation:', 5.551115123125783e-17)\n"
     ]
    }
   ],
   "source": [
    "import math\n",
    "a=[20,30,40,50,60]\n",
    "b=[30,34,36,34,30]\n",
    "\n",
    "def mean(x):\n",
    "    sum = 0.0\n",
    "    for i in x:\n",
    "         sum += i\n",
    "    return sum / len(x) \n",
    "    \n",
    "def sampleStandardDeviation(x):\n",
    "    sumv = 0.0\n",
    "    for i in x:\n",
    "         sumv += (i - mean(x))**2\n",
    "    return math.sqrt(sumv/(len(x)-1))\n",
    "\n",
    "def correlation_def(x, y):\n",
    "\n",
    "    scorex = []\n",
    "    scorey = []\n",
    "\n",
    "    for i in x: \n",
    "        scorex.append((i - mean(x))/sampleStandardDeviation(x)) \n",
    "\n",
    "    for j in y:\n",
    "        scorey.append((j - mean(y))/sampleStandardDeviation(y))   \n",
    "    return (sum([i*j for i,j in zip(scorex,scorey)]))/(len(x)-1)\n",
    "\n",
    "print(\"hour and gallon Correlation:\",correlation_def(a,b))"
   ]
  },
  {
   "cell_type": "code",
   "execution_count": null,
   "metadata": {},
   "outputs": [],
   "source": []
  }
 ],
 "metadata": {
  "kernelspec": {
   "display_name": "Python 2",
   "language": "python",
   "name": "python2"
  },
  "language_info": {
   "codemirror_mode": {
    "name": "ipython",
    "version": 2
   },
   "file_extension": ".py",
   "mimetype": "text/x-python",
   "name": "python",
   "nbconvert_exporter": "python",
   "pygments_lexer": "ipython2",
   "version": "2.7.16"
  }
 },
 "nbformat": 4,
 "nbformat_minor": 2
}
