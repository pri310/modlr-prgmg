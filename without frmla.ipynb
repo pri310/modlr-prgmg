{
 "cells": [
  {
   "cell_type": "code",
   "execution_count": 1,
   "metadata": {},
   "outputs": [
    {
     "name": "stdout",
     "output_type": "stream",
     "text": [
      "   Age  Score\n",
      "0   15    101\n",
      "1   26     77\n",
      "2   10     89\n",
      "3    9     97\n",
      "4   15    108\n",
      "5   20     93\n",
      "6   18     99\n",
      "7   11    106\n",
      "8    8    110\n",
      "9   20    100\n",
      "('correlation value:',            Age    Score\n",
      "Age    1.00000 -0.59733\n",
      "Score -0.59733  1.00000)\n"
     ]
    }
   ],
   "source": [
    "import pandas as pd\n",
    "data={'Age':[15,26,10,9,15,20,18,11,8,20],'Score':[101,77,89,97,108,93,99,106,110,100]}\n",
    "df=pd.DataFrame(data)\n",
    "print(df)\n",
    "corr=df.corr(method='pearson')\n",
    "print(\"correlation value:\",corr)"
   ]
  },
  {
   "cell_type": "code",
   "execution_count": 2,
   "metadata": {},
   "outputs": [
    {
     "name": "stdout",
     "output_type": "stream",
     "text": [
      "   bettle  stumps\n",
      "0      16       2\n",
      "1      36       2\n",
      "2      18       1\n",
      "3      30       3\n",
      "4      46       4\n",
      "5      17       1\n",
      "6      62       5\n",
      "7      46       3\n",
      "8      14       1\n",
      "9      20       2\n",
      "('correlation value for pearson:',          bettle   stumps\n",
      "bettle  1.00000  0.91585\n",
      "stumps  0.91585  1.00000)\n"
     ]
    }
   ],
   "source": [
    "\n",
    "import pandas as pd\n",
    "data={'stumps':[2,2,1,3,4,1,5,3,1,2],'bettle':[16,36,18,30,46,17,62,46,14,20]}\n",
    "df=pd.DataFrame(data)\n",
    "print(df)\n",
    "corr=df.corr(method='pearson')\n",
    "print(\"correlation value for pearson:\",corr)"
   ]
  },
  {
   "cell_type": "code",
   "execution_count": 3,
   "metadata": {},
   "outputs": [
    {
     "name": "stdout",
     "output_type": "stream",
     "text": [
      "   gallon  hour\n",
      "0      30    20\n",
      "1      34    30\n",
      "2      36    40\n",
      "3      34    50\n",
      "4      30    60\n",
      "('correlation value for pearson:',         gallon  hour\n",
      "gallon     1.0   0.0\n",
      "hour       0.0   1.0)\n"
     ]
    }
   ],
   "source": [
    "import pandas as pd\n",
    "data={'hour':[20,30,40,50,60],'gallon':[30,34,36,34,30]}\n",
    "df=pd.DataFrame(data)\n",
    "print(df)\n",
    "corr=df.corr(method='pearson')\n",
    "print(\"correlation value for pearson:\",corr)\n"
   ]
  },
  {
   "cell_type": "code",
   "execution_count": null,
   "metadata": {},
   "outputs": [],
   "source": []
  }
 ],
 "metadata": {
  "kernelspec": {
   "display_name": "Python 2",
   "language": "python",
   "name": "python2"
  },
  "language_info": {
   "codemirror_mode": {
    "name": "ipython",
    "version": 2
   },
   "file_extension": ".py",
   "mimetype": "text/x-python",
   "name": "python",
   "nbconvert_exporter": "python",
   "pygments_lexer": "ipython2",
   "version": "2.7.16"
  }
 },
 "nbformat": 4,
 "nbformat_minor": 2
}
